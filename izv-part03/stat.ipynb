{
 "cells": [
  {
   "attachments": {},
   "cell_type": "markdown",
   "metadata": {},
   "source": [
    "Načítanie knihovien"
   ]
  },
  {
   "cell_type": "code",
   "execution_count": 1,
   "metadata": {
    "vscode": {
     "languageId": "python"
    }
   },
   "outputs": [],
   "source": [
    "import pandas as pd\n",
    "from scipy.stats import chi2_contingency, ttest_ind"
   ]
  },
  {
   "attachments": {},
   "cell_type": "markdown",
   "metadata": {},
   "source": [
    "Načítanie dataframe"
   ]
  },
  {
   "cell_type": "code",
   "execution_count": 2,
   "metadata": {
    "vscode": {
     "languageId": "python"
    }
   },
   "outputs": [
    {
     "data": {
      "text/html": [
       "<div>\n",
       "<style scoped>\n",
       "    .dataframe tbody tr th:only-of-type {\n",
       "        vertical-align: middle;\n",
       "    }\n",
       "\n",
       "    .dataframe tbody tr th {\n",
       "        vertical-align: top;\n",
       "    }\n",
       "\n",
       "    .dataframe thead th {\n",
       "        text-align: right;\n",
       "    }\n",
       "</style>\n",
       "<table border=\"1\" class=\"dataframe\">\n",
       "  <thead>\n",
       "    <tr style=\"text-align: right;\">\n",
       "      <th></th>\n",
       "      <th>p1</th>\n",
       "      <th>p36</th>\n",
       "      <th>p37</th>\n",
       "      <th>p2a</th>\n",
       "      <th>weekday(p2a)</th>\n",
       "      <th>p2b</th>\n",
       "      <th>p6</th>\n",
       "      <th>p7</th>\n",
       "      <th>p8</th>\n",
       "      <th>p9</th>\n",
       "      <th>...</th>\n",
       "      <th>l</th>\n",
       "      <th>n</th>\n",
       "      <th>o</th>\n",
       "      <th>p</th>\n",
       "      <th>q</th>\n",
       "      <th>r</th>\n",
       "      <th>s</th>\n",
       "      <th>t</th>\n",
       "      <th>p5a</th>\n",
       "      <th>region</th>\n",
       "    </tr>\n",
       "  </thead>\n",
       "  <tbody>\n",
       "    <tr>\n",
       "      <th>0</th>\n",
       "      <td>002100160001</td>\n",
       "      <td>4</td>\n",
       "      <td>-1</td>\n",
       "      <td>2016-01-01</td>\n",
       "      <td>5</td>\n",
       "      <td>55</td>\n",
       "      <td>1</td>\n",
       "      <td>1</td>\n",
       "      <td>0</td>\n",
       "      <td>2</td>\n",
       "      <td>...</td>\n",
       "      <td></td>\n",
       "      <td>711403</td>\n",
       "      <td></td>\n",
       "      <td>Souhlasnýsesměremúseku</td>\n",
       "      <td>Pomalý</td>\n",
       "      <td>554782</td>\n",
       "      <td>451622</td>\n",
       "      <td>GN_V0.1UIR-ADR_410</td>\n",
       "      <td>1</td>\n",
       "      <td>PHA</td>\n",
       "    </tr>\n",
       "    <tr>\n",
       "      <th>1</th>\n",
       "      <td>002100160002</td>\n",
       "      <td>4</td>\n",
       "      <td>-1</td>\n",
       "      <td>2016-01-01</td>\n",
       "      <td>5</td>\n",
       "      <td>130</td>\n",
       "      <td>1</td>\n",
       "      <td>3</td>\n",
       "      <td>0</td>\n",
       "      <td>2</td>\n",
       "      <td>...</td>\n",
       "      <td></td>\n",
       "      <td></td>\n",
       "      <td></td>\n",
       "      <td></td>\n",
       "      <td></td>\n",
       "      <td>-1</td>\n",
       "      <td>-1</td>\n",
       "      <td></td>\n",
       "      <td>1</td>\n",
       "      <td>PHA</td>\n",
       "    </tr>\n",
       "    <tr>\n",
       "      <th>2</th>\n",
       "      <td>002100160003</td>\n",
       "      <td>5</td>\n",
       "      <td>-1</td>\n",
       "      <td>2016-01-01</td>\n",
       "      <td>5</td>\n",
       "      <td>100</td>\n",
       "      <td>1</td>\n",
       "      <td>2</td>\n",
       "      <td>0</td>\n",
       "      <td>2</td>\n",
       "      <td>...</td>\n",
       "      <td></td>\n",
       "      <td></td>\n",
       "      <td></td>\n",
       "      <td></td>\n",
       "      <td></td>\n",
       "      <td>-1</td>\n",
       "      <td>-1</td>\n",
       "      <td></td>\n",
       "      <td>1</td>\n",
       "      <td>PHA</td>\n",
       "    </tr>\n",
       "    <tr>\n",
       "      <th>3</th>\n",
       "      <td>002100160004</td>\n",
       "      <td>6</td>\n",
       "      <td>-1</td>\n",
       "      <td>2016-01-01</td>\n",
       "      <td>5</td>\n",
       "      <td>120</td>\n",
       "      <td>9</td>\n",
       "      <td>0</td>\n",
       "      <td>0</td>\n",
       "      <td>2</td>\n",
       "      <td>...</td>\n",
       "      <td></td>\n",
       "      <td></td>\n",
       "      <td></td>\n",
       "      <td></td>\n",
       "      <td></td>\n",
       "      <td>-1</td>\n",
       "      <td>-1</td>\n",
       "      <td></td>\n",
       "      <td>1</td>\n",
       "      <td>PHA</td>\n",
       "    </tr>\n",
       "    <tr>\n",
       "      <th>4</th>\n",
       "      <td>002100160005</td>\n",
       "      <td>6</td>\n",
       "      <td>-1</td>\n",
       "      <td>2016-01-01</td>\n",
       "      <td>5</td>\n",
       "      <td>2560</td>\n",
       "      <td>2</td>\n",
       "      <td>0</td>\n",
       "      <td>0</td>\n",
       "      <td>2</td>\n",
       "      <td>...</td>\n",
       "      <td></td>\n",
       "      <td></td>\n",
       "      <td></td>\n",
       "      <td></td>\n",
       "      <td></td>\n",
       "      <td>-1</td>\n",
       "      <td>-1</td>\n",
       "      <td></td>\n",
       "      <td>1</td>\n",
       "      <td>PHA</td>\n",
       "    </tr>\n",
       "    <tr>\n",
       "      <th>...</th>\n",
       "      <td>...</td>\n",
       "      <td>...</td>\n",
       "      <td>...</td>\n",
       "      <td>...</td>\n",
       "      <td>...</td>\n",
       "      <td>...</td>\n",
       "      <td>...</td>\n",
       "      <td>...</td>\n",
       "      <td>...</td>\n",
       "      <td>...</td>\n",
       "      <td>...</td>\n",
       "      <td>...</td>\n",
       "      <td>...</td>\n",
       "      <td>...</td>\n",
       "      <td>...</td>\n",
       "      <td>...</td>\n",
       "      <td>...</td>\n",
       "      <td>...</td>\n",
       "      <td>...</td>\n",
       "      <td>...</td>\n",
       "      <td>...</td>\n",
       "    </tr>\n",
       "    <tr>\n",
       "      <th>572929</th>\n",
       "      <td>190906210457</td>\n",
       "      <td>6</td>\n",
       "      <td>-1</td>\n",
       "      <td>2021-08-30</td>\n",
       "      <td>1</td>\n",
       "      <td>506</td>\n",
       "      <td>2</td>\n",
       "      <td>0</td>\n",
       "      <td>0</td>\n",
       "      <td>2</td>\n",
       "      <td>...</td>\n",
       "      <td></td>\n",
       "      <td>2611387</td>\n",
       "      <td></td>\n",
       "      <td></td>\n",
       "      <td>Pomalý</td>\n",
       "      <td>560359</td>\n",
       "      <td>-1</td>\n",
       "      <td>GN_V0.1UIR-ADR_410</td>\n",
       "      <td>1</td>\n",
       "      <td>KVK</td>\n",
       "    </tr>\n",
       "    <tr>\n",
       "      <th>572930</th>\n",
       "      <td>190906210458</td>\n",
       "      <td>6</td>\n",
       "      <td>-1</td>\n",
       "      <td>2021-08-30</td>\n",
       "      <td>1</td>\n",
       "      <td>752</td>\n",
       "      <td>2</td>\n",
       "      <td>0</td>\n",
       "      <td>0</td>\n",
       "      <td>2</td>\n",
       "      <td>...</td>\n",
       "      <td></td>\n",
       "      <td>2541503</td>\n",
       "      <td></td>\n",
       "      <td>Opačnýkesměruúseku</td>\n",
       "      <td>Pomalý</td>\n",
       "      <td>560383</td>\n",
       "      <td>550426</td>\n",
       "      <td>GN_V0.1UIR-ADR_410</td>\n",
       "      <td>1</td>\n",
       "      <td>KVK</td>\n",
       "    </tr>\n",
       "    <tr>\n",
       "      <th>572931</th>\n",
       "      <td>190906210459</td>\n",
       "      <td>3</td>\n",
       "      <td>2099</td>\n",
       "      <td>2021-08-30</td>\n",
       "      <td>1</td>\n",
       "      <td>1505</td>\n",
       "      <td>1</td>\n",
       "      <td>3</td>\n",
       "      <td>0</td>\n",
       "      <td>2</td>\n",
       "      <td>...</td>\n",
       "      <td></td>\n",
       "      <td></td>\n",
       "      <td></td>\n",
       "      <td></td>\n",
       "      <td></td>\n",
       "      <td>-1</td>\n",
       "      <td>-1</td>\n",
       "      <td></td>\n",
       "      <td>1</td>\n",
       "      <td>KVK</td>\n",
       "    </tr>\n",
       "    <tr>\n",
       "      <th>572932</th>\n",
       "      <td>190906210460</td>\n",
       "      <td>3</td>\n",
       "      <td>2099</td>\n",
       "      <td>2021-08-31</td>\n",
       "      <td>2</td>\n",
       "      <td>1245</td>\n",
       "      <td>0</td>\n",
       "      <td>0</td>\n",
       "      <td>0</td>\n",
       "      <td>1</td>\n",
       "      <td>...</td>\n",
       "      <td>2099</td>\n",
       "      <td>199764</td>\n",
       "      <td></td>\n",
       "      <td>Opačnýkesměruúseku</td>\n",
       "      <td>Pomalý</td>\n",
       "      <td>560286</td>\n",
       "      <td>553654</td>\n",
       "      <td>GN_V0.1UIR-ADR_410</td>\n",
       "      <td>1</td>\n",
       "      <td>KVK</td>\n",
       "    </tr>\n",
       "    <tr>\n",
       "      <th>572933</th>\n",
       "      <td>190906210461</td>\n",
       "      <td>3</td>\n",
       "      <td>21029</td>\n",
       "      <td>2021-08-31</td>\n",
       "      <td>2</td>\n",
       "      <td>1834</td>\n",
       "      <td>3</td>\n",
       "      <td>0</td>\n",
       "      <td>4</td>\n",
       "      <td>1</td>\n",
       "      <td>...</td>\n",
       "      <td>21029</td>\n",
       "      <td>3650728</td>\n",
       "      <td></td>\n",
       "      <td>Souhlasnýsesměremúseku</td>\n",
       "      <td>Pomalý</td>\n",
       "      <td>560324</td>\n",
       "      <td>-1</td>\n",
       "      <td>GN_V0.1UIR-ADR_410</td>\n",
       "      <td>2</td>\n",
       "      <td>KVK</td>\n",
       "    </tr>\n",
       "  </tbody>\n",
       "</table>\n",
       "<p>572934 rows × 65 columns</p>\n",
       "</div>"
      ],
      "text/plain": [
       "                  p1  p36    p37         p2a  weekday(p2a)   p2b  p6  p7  p8  \\\n",
       "0       002100160001    4     -1  2016-01-01             5    55   1   1   0   \n",
       "1       002100160002    4     -1  2016-01-01             5   130   1   3   0   \n",
       "2       002100160003    5     -1  2016-01-01             5   100   1   2   0   \n",
       "3       002100160004    6     -1  2016-01-01             5   120   9   0   0   \n",
       "4       002100160005    6     -1  2016-01-01             5  2560   2   0   0   \n",
       "...              ...  ...    ...         ...           ...   ...  ..  ..  ..   \n",
       "572929  190906210457    6     -1  2021-08-30             1   506   2   0   0   \n",
       "572930  190906210458    6     -1  2021-08-30             1   752   2   0   0   \n",
       "572931  190906210459    3   2099  2021-08-30             1  1505   1   3   0   \n",
       "572932  190906210460    3   2099  2021-08-31             2  1245   0   0   0   \n",
       "572933  190906210461    3  21029  2021-08-31             2  1834   3   0   4   \n",
       "\n",
       "        p9  ...      l        n  o                       p       q       r  \\\n",
       "0        2  ...          711403     Souhlasnýsesměremúseku  Pomalý  554782   \n",
       "1        2  ...                                                         -1   \n",
       "2        2  ...                                                         -1   \n",
       "3        2  ...                                                         -1   \n",
       "4        2  ...                                                         -1   \n",
       "...     ..  ...    ...      ... ..                     ...     ...     ...   \n",
       "572929   2  ...         2611387                             Pomalý  560359   \n",
       "572930   2  ...         2541503         Opačnýkesměruúseku  Pomalý  560383   \n",
       "572931   2  ...                                                         -1   \n",
       "572932   1  ...   2099   199764         Opačnýkesměruúseku  Pomalý  560286   \n",
       "572933   1  ...  21029  3650728     Souhlasnýsesměremúseku  Pomalý  560324   \n",
       "\n",
       "             s                   t  p5a  region  \n",
       "0       451622  GN_V0.1UIR-ADR_410    1     PHA  \n",
       "1           -1                        1     PHA  \n",
       "2           -1                        1     PHA  \n",
       "3           -1                        1     PHA  \n",
       "4           -1                        1     PHA  \n",
       "...        ...                 ...  ...     ...  \n",
       "572929      -1  GN_V0.1UIR-ADR_410    1     KVK  \n",
       "572930  550426  GN_V0.1UIR-ADR_410    1     KVK  \n",
       "572931      -1                        1     KVK  \n",
       "572932  553654  GN_V0.1UIR-ADR_410    1     KVK  \n",
       "572933      -1  GN_V0.1UIR-ADR_410    2     KVK  \n",
       "\n",
       "[572934 rows x 65 columns]"
      ]
     },
     "execution_count": 2,
     "metadata": {},
     "output_type": "execute_result"
    }
   ],
   "source": [
    "df = pd.read_pickle(\"accidents.pkl.gz\")\n",
    "df"
   ]
  },
  {
   "attachments": {},
   "cell_type": "markdown",
   "metadata": {},
   "source": [
    "# Hypotéza 1\n",
    "Na silnicích první třídy se pri nehodách umíralo se stejnou pravdepodobností jako na silnicích tretí třídy."
   ]
  },
  {
   "attachments": {},
   "cell_type": "markdown",
   "metadata": {},
   "source": [
    "Filtrovanie údajov na základe zadania a vytvorenie kontingenčnej tabuľky"
   ]
  },
  {
   "cell_type": "code",
   "execution_count": 3,
   "metadata": {
    "vscode": {
     "languageId": "python"
    }
   },
   "outputs": [
    {
     "data": {
      "text/html": [
       "<div>\n",
       "<style scoped>\n",
       "    .dataframe tbody tr th:only-of-type {\n",
       "        vertical-align: middle;\n",
       "    }\n",
       "\n",
       "    .dataframe tbody tr th {\n",
       "        vertical-align: top;\n",
       "    }\n",
       "\n",
       "    .dataframe thead th {\n",
       "        text-align: right;\n",
       "    }\n",
       "</style>\n",
       "<table border=\"1\" class=\"dataframe\">\n",
       "  <thead>\n",
       "    <tr style=\"text-align: right;\">\n",
       "      <th>p36</th>\n",
       "      <th>1</th>\n",
       "      <th>3</th>\n",
       "    </tr>\n",
       "    <tr>\n",
       "      <th>fatal</th>\n",
       "      <th></th>\n",
       "      <th></th>\n",
       "    </tr>\n",
       "  </thead>\n",
       "  <tbody>\n",
       "    <tr>\n",
       "      <th>False</th>\n",
       "      <td>78618</td>\n",
       "      <td>73352</td>\n",
       "    </tr>\n",
       "    <tr>\n",
       "      <th>True</th>\n",
       "      <td>911</td>\n",
       "      <td>448</td>\n",
       "    </tr>\n",
       "  </tbody>\n",
       "</table>\n",
       "</div>"
      ],
      "text/plain": [
       "p36        1      3\n",
       "fatal              \n",
       "False  78618  73352\n",
       "True     911    448"
      ]
     },
     "execution_count": 3,
     "metadata": {},
     "output_type": "execute_result"
    }
   ],
   "source": [
    "df[\"fatal\"] = df[\"p13a\"] > 0\n",
    "filtered = df[df[\"p36\"].isin([1, 3])]\n",
    "ct = pd.crosstab(index=filtered[\"fatal\"], columns=filtered[\"p36\"])\n",
    "ct"
   ]
  },
  {
   "attachments": {},
   "cell_type": "markdown",
   "metadata": {},
   "source": [
    "Výpočet pomocou χ2 testu"
   ]
  },
  {
   "cell_type": "code",
   "execution_count": 4,
   "metadata": {
    "vscode": {
     "languageId": "python"
    }
   },
   "outputs": [
    {
     "data": {
      "text/plain": [
       "(125.72070150000258,\n",
       " 3.5395243450138555e-29,\n",
       " 1,\n",
       " array([[78824.11109444, 73145.88890556],\n",
       "        [  704.88890556,   654.11109444]]))"
      ]
     },
     "execution_count": 4,
     "metadata": {},
     "output_type": "execute_result"
    }
   ],
   "source": [
    "res = chi2_contingency(ct)\n",
    "res"
   ]
  },
  {
   "attachments": {},
   "cell_type": "markdown",
   "metadata": {},
   "source": [
    "Porovnanie výsledkov"
   ]
  },
  {
   "cell_type": "code",
   "execution_count": 5,
   "metadata": {
    "vscode": {
     "languageId": "python"
    }
   },
   "outputs": [
    {
     "data": {
      "text/html": [
       "<div>\n",
       "<style scoped>\n",
       "    .dataframe tbody tr th:only-of-type {\n",
       "        vertical-align: middle;\n",
       "    }\n",
       "\n",
       "    .dataframe tbody tr th {\n",
       "        vertical-align: top;\n",
       "    }\n",
       "\n",
       "    .dataframe thead th {\n",
       "        text-align: right;\n",
       "    }\n",
       "</style>\n",
       "<table border=\"1\" class=\"dataframe\">\n",
       "  <thead>\n",
       "    <tr style=\"text-align: right;\">\n",
       "      <th>p36</th>\n",
       "      <th>1</th>\n",
       "      <th>3</th>\n",
       "    </tr>\n",
       "    <tr>\n",
       "      <th>fatal</th>\n",
       "      <th></th>\n",
       "      <th></th>\n",
       "    </tr>\n",
       "  </thead>\n",
       "  <tbody>\n",
       "    <tr>\n",
       "      <th>False</th>\n",
       "      <td>-206.111094</td>\n",
       "      <td>206.111094</td>\n",
       "    </tr>\n",
       "    <tr>\n",
       "      <th>True</th>\n",
       "      <td>206.111094</td>\n",
       "      <td>-206.111094</td>\n",
       "    </tr>\n",
       "  </tbody>\n",
       "</table>\n",
       "</div>"
      ],
      "text/plain": [
       "p36             1           3\n",
       "fatal                        \n",
       "False -206.111094  206.111094\n",
       "True   206.111094 -206.111094"
      ]
     },
     "execution_count": 5,
     "metadata": {},
     "output_type": "execute_result"
    }
   ],
   "source": [
    "ct - res[3]"
   ]
  },
  {
   "attachments": {},
   "cell_type": "markdown",
   "metadata": {},
   "source": [
    "## Hypotéza 1 - záver\n",
    "Pravdepodobnost 3.5 * 10^(-29) je oveľa menšia ako 0.05. Z tohto dôvodu považujem nulovú hypotézu za nepravdivú a vyhlasujem, že existuje veľká korelácia medzi pravdepodobnosťou smrteľných nehôd na cestách prvej a tretej triedy. Tiež vidíme, že cesty prvej triedy si celkovo vyžiadali viac smrteľných zranení."
   ]
  },
  {
   "attachments": {},
   "cell_type": "markdown",
   "metadata": {},
   "source": [
    "# Hypotéza 2\n",
    "Při nehodách vozidel značky Škoda je škoda na vozidle nižší než při nehodách vozidel Audi."
   ]
  },
  {
   "attachments": {},
   "cell_type": "markdown",
   "metadata": {},
   "source": [
    "Znovu inicializujem hodnoty"
   ]
  },
  {
   "cell_type": "code",
   "execution_count": 6,
   "metadata": {
    "vscode": {
     "languageId": "python"
    }
   },
   "outputs": [],
   "source": [
    "df2 = pd.read_pickle(\"accidents.pkl.gz\")"
   ]
  },
  {
   "attachments": {},
   "cell_type": "markdown",
   "metadata": {},
   "source": [
    "Filtrovanie údajov na základe zadania a vytvorenie kontingenčnej tabuľky"
   ]
  },
  {
   "cell_type": "code",
   "execution_count": 7,
   "metadata": {
    "vscode": {
     "languageId": "python"
    }
   },
   "outputs": [
    {
     "data": {
      "text/html": [
       "<div>\n",
       "<style scoped>\n",
       "    .dataframe tbody tr th:only-of-type {\n",
       "        vertical-align: middle;\n",
       "    }\n",
       "\n",
       "    .dataframe tbody tr th {\n",
       "        vertical-align: top;\n",
       "    }\n",
       "\n",
       "    .dataframe thead th {\n",
       "        text-align: right;\n",
       "    }\n",
       "</style>\n",
       "<table border=\"1\" class=\"dataframe\">\n",
       "  <thead>\n",
       "    <tr style=\"text-align: right;\">\n",
       "      <th>p45a</th>\n",
       "      <th>2</th>\n",
       "      <th>39</th>\n",
       "    </tr>\n",
       "    <tr>\n",
       "      <th>p53</th>\n",
       "      <th></th>\n",
       "      <th></th>\n",
       "    </tr>\n",
       "  </thead>\n",
       "  <tbody>\n",
       "    <tr>\n",
       "      <th>0</th>\n",
       "      <td>764</td>\n",
       "      <td>8203</td>\n",
       "    </tr>\n",
       "    <tr>\n",
       "      <th>1</th>\n",
       "      <td>12</td>\n",
       "      <td>240</td>\n",
       "    </tr>\n",
       "    <tr>\n",
       "      <th>2</th>\n",
       "      <td>1</td>\n",
       "      <td>74</td>\n",
       "    </tr>\n",
       "    <tr>\n",
       "      <th>3</th>\n",
       "      <td>1</td>\n",
       "      <td>13</td>\n",
       "    </tr>\n",
       "    <tr>\n",
       "      <th>4</th>\n",
       "      <td>0</td>\n",
       "      <td>7</td>\n",
       "    </tr>\n",
       "    <tr>\n",
       "      <th>...</th>\n",
       "      <td>...</td>\n",
       "      <td>...</td>\n",
       "    </tr>\n",
       "    <tr>\n",
       "      <th>9000</th>\n",
       "      <td>4</td>\n",
       "      <td>2</td>\n",
       "    </tr>\n",
       "    <tr>\n",
       "      <th>10000</th>\n",
       "      <td>10</td>\n",
       "      <td>8</td>\n",
       "    </tr>\n",
       "    <tr>\n",
       "      <th>12000</th>\n",
       "      <td>2</td>\n",
       "      <td>0</td>\n",
       "    </tr>\n",
       "    <tr>\n",
       "      <th>15000</th>\n",
       "      <td>3</td>\n",
       "      <td>1</td>\n",
       "    </tr>\n",
       "    <tr>\n",
       "      <th>20000</th>\n",
       "      <td>4</td>\n",
       "      <td>0</td>\n",
       "    </tr>\n",
       "  </tbody>\n",
       "</table>\n",
       "<p>174 rows × 2 columns</p>\n",
       "</div>"
      ],
      "text/plain": [
       "p45a    2     39\n",
       "p53             \n",
       "0      764  8203\n",
       "1       12   240\n",
       "2        1    74\n",
       "3        1    13\n",
       "4        0     7\n",
       "...    ...   ...\n",
       "9000     4     2\n",
       "10000   10     8\n",
       "12000    2     0\n",
       "15000    3     1\n",
       "20000    4     0\n",
       "\n",
       "[174 rows x 2 columns]"
      ]
     },
     "execution_count": 7,
     "metadata": {},
     "output_type": "execute_result"
    }
   ],
   "source": [
    "filtered = df2[df2[\"p45a\"].isin([2, 39])]\n",
    "ct = pd.crosstab(index=filtered[\"p53\"], columns=filtered[\"p45a\"])\n",
    "ct"
   ]
  },
  {
   "attachments": {},
   "cell_type": "markdown",
   "metadata": {},
   "source": [
    "Zistím celkové škody pre jednolivé značky áut"
   ]
  },
  {
   "cell_type": "code",
   "execution_count": 8,
   "metadata": {
    "vscode": {
     "languageId": "python"
    }
   },
   "outputs": [
    {
     "name": "stdout",
     "output_type": "stream",
     "text": [
      "Audi: 11445\n",
      "Skoda: 118379\n"
     ]
    }
   ],
   "source": [
    "print(\"Audi: \" + str(sum(ct[2])))\n",
    "print(\"Skoda: \" + str(sum(ct[39])))"
   ]
  },
  {
   "attachments": {},
   "cell_type": "markdown",
   "metadata": {},
   "source": [
    "Použijem t-test"
   ]
  },
  {
   "cell_type": "code",
   "execution_count": 9,
   "metadata": {
    "vscode": {
     "languageId": "python"
    }
   },
   "outputs": [
    {
     "data": {
      "text/plain": [
       "0.0007078755607522958"
      ]
     },
     "execution_count": 9,
     "metadata": {},
     "output_type": "execute_result"
    }
   ],
   "source": [
    "t_statistic, p_value = ttest_ind(ct[2], ct[39])\n",
    "p_value"
   ]
  },
  {
   "attachments": {},
   "cell_type": "markdown",
   "metadata": {},
   "source": [
    "## Hypotéza 2 - záver\n",
    "Pravdepodobnosť 0.0007 je menšia ako 0.05. Z tohto dôvodu považujem nulovú hypotézu za nepravdivú. Škoda na vozidlách značky Škoda je oveľa vyššia ako na vodizidlách značky Audi. "
   ]
  }
 ],
 "metadata": {
  "kernelspec": {
   "display_name": "Python 3 (ipykernel)",
   "language": "python",
   "name": "python3"
  },
  "orig_nbformat": 4
 },
 "nbformat": 4,
 "nbformat_minor": 2
}
